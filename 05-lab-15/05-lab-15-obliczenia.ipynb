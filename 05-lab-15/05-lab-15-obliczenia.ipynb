{
 "cells": [
  {
   "cell_type": "markdown",
   "metadata": {},
   "source": [
    "# 05 - lab 15 - Drgania masy zawieszonej na sprężynie\n"
   ]
  },
  {
   "cell_type": "code",
   "execution_count": 13,
   "metadata": {},
   "outputs": [],
   "source": [
    "import numpy as np\n",
    "from IPython.display import display, Math"
   ]
  },
  {
   "cell_type": "code",
   "execution_count": 14,
   "metadata": {},
   "outputs": [
    {
     "name": "stdout",
     "output_type": "stream",
     "text": [
      "[0.01 0.02 0.03 0.04 0.05 0.06]\n"
     ]
    }
   ],
   "source": [
    "m = np.array([10, 20, 30, 40, 50, 60])\n",
    "x1 = np.array([21.0, 28.2, 35.4, 42.6, 50.0, 57.1])\n",
    "x2 = np.array([21.0, 28.2, 35.5, 42.8, 50.0, 57.1])\n",
    "\n",
    "x1 = x1 / 100\n",
    "x2 = x2 / 100\n",
    "\n",
    "m = m / 1000\n",
    "print(m)\n",
    "\n",
    "x_0 = 13.6 / 100"
   ]
  },
  {
   "cell_type": "code",
   "execution_count": 15,
   "metadata": {},
   "outputs": [
    {
     "name": "stdout",
     "output_type": "stream",
     "text": [
      "[0.074 0.146 0.218 0.29  0.364 0.435]\n",
      "[0.074 0.146 0.219 0.292 0.364 0.435]\n",
      "[0.074  0.146  0.2185 0.291  0.364  0.435 ]\n",
      "[0.0981 0.1962 0.2943 0.3924 0.4905 0.5886]\n"
     ]
    }
   ],
   "source": [
    "D_x1 = x1 - x_0\n",
    "D_x2 = x2 - x_0\n",
    "\n",
    "print(D_x1)\n",
    "print(D_x2)\n",
    "\n",
    "D_x_avg = (D_x1 + D_x2) / 2\n",
    "print(D_x_avg)\n",
    "\n",
    "F = m * 9.81\n",
    "print(F)"
   ]
  },
  {
   "cell_type": "markdown",
   "metadata": {},
   "source": [
    "$$\n",
    "F = k \\cdot x\n",
    "$$\n"
   ]
  },
  {
   "cell_type": "code",
   "execution_count": 23,
   "metadata": {},
   "outputs": [
    {
     "name": "stdout",
     "output_type": "stream",
     "text": [
      "Spring constant k = 0.7373 N/m\n",
      "Intercept = 0.00160 m\n",
      "R-squared value = 1.0000\n"
     ]
    }
   ],
   "source": [
    "from scipy import stats\n",
    "\n",
    "# Perform linear regression\n",
    "slope, intercept, r_value, p_value, std_err = stats.linregress(F, D_x_avg)\n",
    "\n",
    "# Calculate spring constant k (in N/m)\n",
    "k = slope  # Convert from N/cm to N/m\n",
    "\n",
    "print(f\"Spring constant k = {k:.4f} N/m\")\n",
    "print(f\"Intercept = {intercept:.5f} m\")\n",
    "print(f\"R-squared value = {r_value**2:.4f}\")"
   ]
  },
  {
   "cell_type": "markdown",
   "metadata": {},
   "source": [
    "## Niepewności\n"
   ]
  },
  {
   "cell_type": "markdown",
   "metadata": {},
   "source": [
    "### Niepewności współczynników regresji liniowej\n"
   ]
  },
  {
   "cell_type": "code",
   "execution_count": 20,
   "metadata": {},
   "outputs": [
    {
     "data": {
      "text/latex": [
       "$\\displaystyle u_k = 0.001210$"
      ],
      "text/plain": [
       "<IPython.core.display.Math object>"
      ]
     },
     "metadata": {},
     "output_type": "display_data"
    },
    {
     "data": {
      "text/latex": [
       "$\\displaystyle u_b = 0.000462$"
      ],
      "text/plain": [
       "<IPython.core.display.Math object>"
      ]
     },
     "metadata": {},
     "output_type": "display_data"
    },
    {
     "name": "stdout",
     "output_type": "stream",
     "text": [
      "u_k = 0.001210\n",
      "u_b = 0.000462\n"
     ]
    }
   ],
   "source": [
    "# Obliczanie niepewności dla współczynników\n",
    "n = len(F)\n",
    "y_pred = slope * F + intercept\n",
    "s_y = np.sqrt(np.sum((D_x_avg - y_pred) ** 2) / (n - 2))\n",
    "\n",
    "# Obliczanie niepewności standardowych dla k i b\n",
    "u_k = s_y * np.sqrt(n / (n * np.sum(F**2) - np.sum(F) ** 2))\n",
    "u_b = s_y * np.sqrt(np.sum(F**2) / (n * np.sum(F**2) - np.sum(F) ** 2))\n",
    "\n",
    "display(Math(r\"u_k = \" + f\"{u_k:.6f}\"))\n",
    "display(Math(r\"u_b = \" + f\"{u_b:.6f}\"))\n",
    "\n",
    "print(f\"u_k = {u_k:.6f}\")\n",
    "print(f\"u_b = {u_b:.6f}\")"
   ]
  },
  {
   "cell_type": "markdown",
   "metadata": {},
   "source": [
    "### Niepewność wydłużenia\n",
    "\n",
    "$$\n",
    "\\Delta_d(x) = 0.001\n",
    "$$\n",
    "\n",
    "$$\n",
    "u_B(x) = \\frac{\\Delta_d x}{\\sqrt{3}}\n",
    "$$\n"
   ]
  },
  {
   "cell_type": "code",
   "execution_count": null,
   "metadata": {},
   "outputs": [],
   "source": []
  },
  {
   "cell_type": "code",
   "execution_count": 34,
   "metadata": {},
   "outputs": [
    {
     "name": "stdout",
     "output_type": "stream",
     "text": [
      "0.0005773502691896258\n"
     ]
    }
   ],
   "source": [
    "Delta_x = 0.001\n",
    "u_x = Delta_x / np.sqrt(3)\n",
    "print(u_x)"
   ]
  },
  {
   "cell_type": "code",
   "execution_count": 35,
   "metadata": {},
   "outputs": [
    {
     "name": "stdout",
     "output_type": "stream",
     "text": [
      "0.0008164965809277262\n"
     ]
    }
   ],
   "source": [
    "u_Delta_x = np.sqrt(2) * u_x\n",
    "print(u_Delta_x)"
   ]
  },
  {
   "cell_type": "code",
   "execution_count": 37,
   "metadata": {},
   "outputs": [
    {
     "name": "stdout",
     "output_type": "stream",
     "text": [
      "0.0005773502691896258\n"
     ]
    }
   ],
   "source": [
    "u_Delta_x_avg = u_Delta_x / np.sqrt(2)\n",
    "print(u_Delta_x_avg)"
   ]
  },
  {
   "cell_type": "markdown",
   "metadata": {},
   "source": [
    "## niepewność pomiaru czasu\n"
   ]
  },
  {
   "cell_type": "code",
   "execution_count": 46,
   "metadata": {},
   "outputs": [
    {
     "name": "stdout",
     "output_type": "stream",
     "text": [
      "u_B_t = 0.11547005383792516\n"
     ]
    }
   ],
   "source": [
    "Delta_t = 0.2\n",
    "u_B_t = Delta_t / np.sqrt(3)\n",
    "print(f\"u_B_t = {u_B_t}\")"
   ]
  },
  {
   "cell_type": "markdown",
   "metadata": {},
   "source": [
    "### Niepewność okresu\n",
    "\n",
    "$$\n",
    "u_c(T) = \\frac{u_B(t)}{N}\n",
    "$$\n"
   ]
  },
  {
   "cell_type": "code",
   "execution_count": 48,
   "metadata": {},
   "outputs": [
    {
     "name": "stdout",
     "output_type": "stream",
     "text": [
      "u_c_T = 0.005773502691896258\n"
     ]
    }
   ],
   "source": [
    "N = 20\n",
    "u_c_T = u_B_t / N\n",
    "print(f\"u_c_T = {u_c_T}\")"
   ]
  },
  {
   "cell_type": "markdown",
   "metadata": {},
   "source": [
    "## Wykres\n"
   ]
  },
  {
   "cell_type": "code",
   "execution_count": 42,
   "metadata": {},
   "outputs": [
    {
     "data": {
      "image/png": "[encoded data removed]",
      "text/plain": [
       "<Figure size 1500x1000 with 1 Axes>"
      ]
     },
     "metadata": {},
     "output_type": "display_data"
    }
   ],
   "source": [
    "import matplotlib.pyplot as plt\n",
    "import numpy as np\n",
    "\n",
    "plt.figure(figsize=(15, 10))\n",
    "plt.errorbar(\n",
    "    F, D_x_avg, yerr=u_Delta_x_avg, fmt=\"none\", color=\"blue\", capsize=5\n",
    ")  # Add error bars\n",
    "\n",
    "# Calculate linear regression\n",
    "slope, intercept = np.polyfit(F, D_x_avg, 1)\n",
    "regression_line = slope * F + intercept\n",
    "\n",
    "# Plot regression line\n",
    "plt.plot(F, regression_line, \"r-\", label=f\"x = {slope:.4f}F + {intercept:.5f}\")\n",
    "\n",
    "plt.xlabel(\"Siła F [N]\")\n",
    "plt.ylabel(\"Wydłużenie Δx [cm]\")\n",
    "plt.grid(True)\n",
    "plt.xlim(0, max(F) * 1.1)  # Start x-axis from 0 with 10% margin\n",
    "plt.ylim(0, max(D_x_avg) * 1.1)  # Start y-axis from 0 with 10% margin\n",
    "plt.legend()\n",
    "plt.show()"
   ]
  }
 ],
 "metadata": {
  "kernelspec": {
   "display_name": "venv",
   "language": "python",
   "name": "python3"
  },
  "language_info": {
   "codemirror_mode": {
    "name": "ipython",
    "version": 3
   },
   "file_extension": ".py",
   "mimetype": "text/x-python",
   "name": "python",
   "nbconvert_exporter": "python",
   "pygments_lexer": "ipython3",
   "version": "3.12.0"
  }
 },
 "nbformat": 4,
 "nbformat_minor": 2
}
