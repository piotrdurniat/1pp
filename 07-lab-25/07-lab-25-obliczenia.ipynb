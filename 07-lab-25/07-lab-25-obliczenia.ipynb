{
 "cells": [
  {
   "cell_type": "markdown",
   "metadata": {},
   "source": [
    "# 07 - lab 25 - rozszerzalność cieplna\n"
   ]
  },
  {
   "cell_type": "code",
   "execution_count": 11,
   "metadata": {},
   "outputs": [],
   "source": [
    "import numpy as np"
   ]
  },
  {
   "cell_type": "code",
   "execution_count": 12,
   "metadata": {},
   "outputs": [
    {
     "name": "stdout",
     "output_type": "stream",
     "text": [
      "Delta L1: 0.0010650 m\n",
      "Delta L2: 0.0009500 m\n",
      "Delta L3: 0.0009400 m\n",
      "Delta L4: 0.0006650 m\n",
      "alpha_1: 0.000018708 1/K\n",
      "alpha_2: 0.000016688 1/K\n",
      "alpha_3: 0.000016512 1/K\n",
      "alpha_4: 0.000011682 1/K\n"
     ]
    }
   ],
   "source": [
    "# Calculate average Delta L values\n",
    "Delta_L1 = (1.06 + 1.07) / 2 * 10 ** (-3)\n",
    "Delta_L2 = (0.95 + 0.95) / 2 * 10 ** (-3)\n",
    "Delta_L3 = (0.94 + 0.94) / 2 * 10 ** (-3)\n",
    "Delta_L4 = (0.68 + 0.65) / 2 * 10 ** (-3)\n",
    "\n",
    "Deta_L = np.array([Delta_L1, Delta_L2, Delta_L3, Delta_L4])\n",
    "\n",
    "for i in range(len(Deta_L)):\n",
    "    print(f\"Delta L{i+1}: {Deta_L[i]:.7f} m\")\n",
    "\n",
    "T_0 = 24.0\n",
    "T_1 = 99.4\n",
    "\n",
    "L_0 = 0.755\n",
    "\n",
    "alpha = Deta_L / (L_0 * (T_1 - T_0))\n",
    "\n",
    "for i in range(len(alpha)):\n",
    "    print(f\"alpha_{i+1}: {alpha[i]:.9f} 1/K\")"
   ]
  },
  {
   "cell_type": "markdown",
   "metadata": {},
   "source": [
    "# Niepewności\n"
   ]
  },
  {
   "cell_type": "code",
   "execution_count": 13,
   "metadata": {},
   "outputs": [
    {
     "name": "stdout",
     "output_type": "stream",
     "text": [
      "0.005773502691896258\n",
      "5.773502691896259e-06\n",
      "0.05773502691896258\n"
     ]
    }
   ],
   "source": [
    "Delta_L = 0.01\n",
    "Delta_L_xx = 0.00001\n",
    "Delta_T = 0.1\n",
    "\n",
    "# Niepewność standardowa\n",
    "u_L = Delta_L / np.sqrt(3)\n",
    "u_L_xx = Delta_L_xx / np.sqrt(3)\n",
    "u_T = Delta_T / np.sqrt(3)\n",
    "\n",
    "print(u_L)\n",
    "print(u_L_xx)\n",
    "print(u_T)"
   ]
  },
  {
   "cell_type": "code",
   "execution_count": 14,
   "metadata": {},
   "outputs": [
    {
     "name": "stdout",
     "output_type": "stream",
     "text": [
      "1.1547005383792517e-05\n"
     ]
    }
   ],
   "source": [
    "u_L = 2 * u_L_xx\n",
    "print(u_L)"
   ]
  },
  {
   "cell_type": "code",
   "execution_count": 15,
   "metadata": {},
   "outputs": [
    {
     "name": "stdout",
     "output_type": "stream",
     "text": [
      "0.11547005383792516\n"
     ]
    }
   ],
   "source": [
    "u_Delta_T = 2 * u_T\n",
    "print(u_Delta_T)"
   ]
  },
  {
   "cell_type": "code",
   "execution_count": 16,
   "metadata": {},
   "outputs": [
    {
     "name": "stdout",
     "output_type": "stream",
     "text": [
      "u(alpha_1): 0.000000205 1/K\n",
      "u(alpha_2): 0.000000204 1/K\n",
      "u(alpha_3): 0.000000204 1/K\n",
      "u(alpha_4): 0.000000204 1/K\n"
     ]
    }
   ],
   "source": [
    "# Calculate uncertainty of thermal expansion coefficient\n",
    "u_alpha = np.sqrt(\n",
    "    (1 / (L_0 * (T_1 - T_0))) ** 2 * u_L**2\n",
    "    + (-Deta_L / (L_0**2 * (T_1 - T_0))) ** 2 * u_L**2\n",
    "    + (-Deta_L / (L_0 * (T_1 - T_0) ** 2)) ** 2 * u_Delta_T**2\n",
    ")\n",
    "\n",
    "for i in range(len(u_alpha)):\n",
    "    print(f\"u(alpha_{i+1}): {u_alpha[i]:.9f} 1/K\")"
   ]
  },
  {
   "cell_type": "code",
   "execution_count": null,
   "metadata": {},
   "outputs": [],
   "source": []
  },
  {
   "cell_type": "code",
   "execution_count": null,
   "metadata": {},
   "outputs": [],
   "source": []
  },
  {
   "cell_type": "code",
   "execution_count": null,
   "metadata": {},
   "outputs": [],
   "source": []
  },
  {
   "cell_type": "code",
   "execution_count": null,
   "metadata": {},
   "outputs": [],
   "source": []
  },
  {
   "cell_type": "code",
   "execution_count": null,
   "metadata": {},
   "outputs": [],
   "source": []
  },
  {
   "cell_type": "code",
   "execution_count": null,
   "metadata": {},
   "outputs": [],
   "source": []
  }
 ],
 "metadata": {
  "kernelspec": {
   "display_name": "venv",
   "language": "python",
   "name": "python3"
  },
  "language_info": {
   "codemirror_mode": {
    "name": "ipython",
    "version": 3
   },
   "file_extension": ".py",
   "mimetype": "text/x-python",
   "name": "python",
   "nbconvert_exporter": "python",
   "pygments_lexer": "ipython3",
   "version": "3.12.0"
  }
 },
 "nbformat": 4,
 "nbformat_minor": 2
}
