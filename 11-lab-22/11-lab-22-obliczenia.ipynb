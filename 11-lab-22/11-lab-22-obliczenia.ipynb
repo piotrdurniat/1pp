{
 "cells": [
  {
   "cell_type": "markdown",
   "metadata": {
    "vscode": {
     "languageId": "plaintext"
    }
   },
   "source": [
    "# 11. lab 22 - obliczenia\n"
   ]
  },
  {
   "cell_type": "code",
   "execution_count": 23,
   "metadata": {},
   "outputs": [
    {
     "name": "stdout",
     "output_type": "stream",
     "text": [
      "Temperatura punktu rosy:\n",
      "[12.7  13.35 13.95 13.05 13.5  13.3  13.   13.15 13.6  13.45 13.7  13.6\n",
      " 13.6  13.75 13.2 ]\n",
      "Ciśnienie pary nasyconej:\n",
      "[1461.3 1525.  1586.  1495.3 1540.  1520.  1490.4 1505.  1550.  1535.\n",
      " 1560.2 1550.  1550.  1565.3 1510. ]\n",
      "Wilgotność względna:\n",
      "[0.46083254 0.48092085 0.50015768 0.47155471 0.48565121 0.47934406\n",
      " 0.47000946 0.47461369 0.48880479 0.48407442 0.49202144 0.48880479\n",
      " 0.48880479 0.49362977 0.47619048]\n",
      "Średnia wilgotność względna:\n",
      "0.4823609797119731\n"
     ]
    }
   ],
   "source": [
    "import numpy as np\n",
    "\n",
    "# Dane pomiarowe\n",
    "T1 = np.array(\n",
    "    [\n",
    "        11.4,\n",
    "        12.0,\n",
    "        11.9,\n",
    "        12.3,\n",
    "        12.5,\n",
    "        12.5,\n",
    "        12.5,\n",
    "        11.9,\n",
    "        11.5,\n",
    "        12.0,\n",
    "        12.0,\n",
    "        12.3,\n",
    "        11.8,\n",
    "        12.4,\n",
    "        12.2,\n",
    "    ]\n",
    ")\n",
    "T2 = np.array(\n",
    "    [\n",
    "        14.0,\n",
    "        14.7,\n",
    "        16.0,\n",
    "        13.8,\n",
    "        14.5,\n",
    "        14.1,\n",
    "        13.5,\n",
    "        14.4,\n",
    "        15.7,\n",
    "        14.9,\n",
    "        15.4,\n",
    "        14.9,\n",
    "        15.4,\n",
    "        15.1,\n",
    "        14.2,\n",
    "    ]\n",
    ")\n",
    "\n",
    "T_s = (T1 + T2) / 2\n",
    "\n",
    "print(\"Temperatura punktu rosy:\")\n",
    "print(T_s)\n",
    "\n",
    "p_0 = 3171\n",
    "\n",
    "p_t = np.array(\n",
    "    [\n",
    "        1461.3,\n",
    "        1525.0,\n",
    "        1586.0,\n",
    "        1495.3,\n",
    "        1540.0,\n",
    "        1520.0,\n",
    "        1490.4,\n",
    "        1505.0,\n",
    "        1550.0,\n",
    "        1535.0,\n",
    "        1560.2,\n",
    "        1550.0,\n",
    "        1550.0,\n",
    "        1565.3,\n",
    "        1510.0,\n",
    "    ]\n",
    ")\n",
    "print(\"Ciśnienie pary nasyconej:\")\n",
    "print(p_t)\n",
    "\n",
    "S = p_t / p_0\n",
    "print(\"Wilgotność względna:\")\n",
    "print(S)\n",
    "\n",
    "S_avg = np.mean(S)\n",
    "print(\"Średnia wilgotność względna:\")\n",
    "print(S_avg)"
   ]
  },
  {
   "cell_type": "code",
   "execution_count": 18,
   "metadata": {},
   "outputs": [
    {
     "name": "stdout",
     "output_type": "stream",
     "text": [
      "Złożona niepewność standardowa wilgotności względnej: 0.0026881068107060028\n"
     ]
    }
   ],
   "source": [
    "def combined_standard_uncertainty(y):\n",
    "    \"\"\"\n",
    "    Oblicza złożoną niepewność standardową wyniku wg wzoru:\n",
    "    u_c(Y) = sqrt(1/(n(n-1)) * sum_{i=1}^n (y_i - y_avg)^2)\n",
    "    \"\"\"\n",
    "    n = len(y)\n",
    "    y_avg = np.mean(y)\n",
    "    sum_sq = np.sum((y - y_avg) ** 2)\n",
    "    return np.sqrt(sum_sq / (n * (n - 1)))\n",
    "\n",
    "\n",
    "u_c_S = combined_standard_uncertainty(S)\n",
    "print(\"Złożona niepewność standardowa wilgotności względnej:\", u_c_S)"
   ]
  },
  {
   "cell_type": "code",
   "execution_count": null,
   "metadata": {},
   "outputs": [],
   "source": []
  }
 ],
 "metadata": {
  "kernelspec": {
   "display_name": "venv",
   "language": "python",
   "name": "python3"
  },
  "language_info": {
   "codemirror_mode": {
    "name": "ipython",
    "version": 3
   },
   "file_extension": ".py",
   "mimetype": "text/x-python",
   "name": "python",
   "nbconvert_exporter": "python",
   "pygments_lexer": "ipython3",
   "version": "3.12.0"
  }
 },
 "nbformat": 4,
 "nbformat_minor": 2
}
