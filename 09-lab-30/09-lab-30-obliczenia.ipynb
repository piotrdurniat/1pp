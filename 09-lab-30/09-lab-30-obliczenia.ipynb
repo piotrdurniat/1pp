{
 "cells": [
  {
   "cell_type": "markdown",
   "metadata": {},
   "source": [
    "# 09 lab 30 - obliczenia\n"
   ]
  },
  {
   "cell_type": "code",
   "execution_count": 4,
   "metadata": {},
   "outputs": [
    {
     "name": "stdout",
     "output_type": "stream",
     "text": [
      "0.7986512524084778\n"
     ]
    }
   ],
   "source": [
    "m1 = 1\n",
    "m2 = 0.1\n",
    "m3 = 0.01\n",
    "\n",
    "R = (1 * m1 + 7 * m1 + 2 * m2 + 4 * m3 + 5 * m3) / (\n",
    "    3 * m1 + 7 * m1 + 2 * m2 + 4 * m3 + 6 * m3 + 8 * m3\n",
    ")\n",
    "print(R)"
   ]
  },
  {
   "cell_type": "code",
   "execution_count": 2,
   "metadata": {},
   "outputs": [
    {
     "name": "stdout",
     "output_type": "stream",
     "text": [
      "0.7986512524084778\n"
     ]
    }
   ],
   "source": [
    "m_w = 1.038\n",
    "m_a = 0.829\n",
    "\n",
    "relative_density = m_a / m_w\n",
    "print(relative_density)"
   ]
  }
 ],
 "metadata": {
  "kernelspec": {
   "display_name": "venv",
   "language": "python",
   "name": "python3"
  },
  "language_info": {
   "codemirror_mode": {
    "name": "ipython",
    "version": 3
   },
   "file_extension": ".py",
   "mimetype": "text/x-python",
   "name": "python",
   "nbconvert_exporter": "python",
   "pygments_lexer": "ipython3",
   "version": "3.12.0"
  }
 },
 "nbformat": 4,
 "nbformat_minor": 2
}
