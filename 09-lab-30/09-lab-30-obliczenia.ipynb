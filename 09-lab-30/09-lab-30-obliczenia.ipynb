{
 "cells": [
  {
   "cell_type": "markdown",
   "metadata": {},
   "source": [
    "# 09 lab 30 - obliczenia\n"
   ]
  },
  {
   "cell_type": "code",
   "execution_count": 1,
   "metadata": {},
   "outputs": [
    {
     "name": "stdout",
     "output_type": "stream",
     "text": [
      "0.7986512524084778\n"
     ]
    }
   ],
   "source": [
    "m1 = 1\n",
    "m2 = 0.1\n",
    "m3 = 0.01\n",
    "\n",
    "R = (1 * m1 + 7 * m1 + 2 * m2 + 4 * m3 + 5 * m3) / (\n",
    "    3 * m1 + 7 * m1 + 2 * m2 + 4 * m3 + 6 * m3 + 8 * m3\n",
    ")\n",
    "print(R)"
   ]
  },
  {
   "cell_type": "code",
   "execution_count": 2,
   "metadata": {},
   "outputs": [
    {
     "name": "stdout",
     "output_type": "stream",
     "text": [
      "0.7986512524084778\n"
     ]
    }
   ],
   "source": [
    "m_w = 1.038\n",
    "m_a = 0.829\n",
    "\n",
    "relative_density = m_a / m_w\n",
    "print(relative_density)"
   ]
  },
  {
   "cell_type": "code",
   "execution_count": 3,
   "metadata": {},
   "outputs": [],
   "source": [
    "def R(h0, hp, hw):\n",
    "    return (hp - h0) / (hp - hw)\n",
    "\n",
    "\n",
    "def R2(h0, hp, hw):\n",
    "    return (h0 - hp) / (h0 - hw)\n",
    "\n",
    "\n",
    "def delta_R(h0, hp, hw, delta_h):\n",
    "    \"\"\"\n",
    "    Oblicza niepewność względnej gęstości R z wagi Jolly'ego.\n",
    "\n",
    "    Parametry:\n",
    "    h0      -- położenie zerowe (float)\n",
    "    hp      -- położenie z ciężarkiem w powietrzu (float)\n",
    "    hw      -- położenie z ciężarkiem w cieczy (float)\n",
    "    delta_h -- niepewność każdego pomiaru (float)\n",
    "\n",
    "    Zwraca:\n",
    "    delta_R -- niepewność względnej gęstości (float)\n",
    "    \"\"\"\n",
    "    denominator = hp - hw\n",
    "    numerator = hp - h0\n",
    "\n",
    "    term1 = 1 / abs(denominator)\n",
    "    term2 = abs(1 / denominator - numerator / (denominator**2))\n",
    "    term3 = abs(numerator) / (denominator**2)\n",
    "\n",
    "    return delta_h * (term1 + term2 + term3)"
   ]
  },
  {
   "cell_type": "code",
   "execution_count": 4,
   "metadata": {},
   "outputs": [
    {
     "name": "stdout",
     "output_type": "stream",
     "text": [
      "Niepewności dla wody:\n",
      "Ciało 1: 0.4306\n",
      "Ciało 2: 1.0933\n",
      "Ciało 3: 3.8750\n",
      "Ciało 4: 2.5937\n",
      "\n",
      "Niepewności dla alkoholu:\n",
      "Ciało 1: 0.7407\n",
      "Ciało 2: 1.7083\n",
      "Ciało 3: 3.8750\n",
      "Ciało 4: 4.5556\n"
     ]
    }
   ],
   "source": [
    "import numpy as np\n",
    "\n",
    "# Dane dla wody\n",
    "h0_water = np.array([22.3, 22.3, 22.3, 22.3]) / 100  # cm -> m\n",
    "hp_water = np.array([25.4, 34.6, 25.4, 30.6]) / 100  # cm -> m\n",
    "hw_water = np.array([24.2, 33.1, 25.0, 29.8]) / 100  # cm -> m\n",
    "\n",
    "# Dane dla alkoholu\n",
    "h0_alcohol = np.array([22.4, 22.4, 22.4, 22.4]) / 100  # cm -> m\n",
    "hp_alcohol = np.array([25.4, 34.7, 25.5, 30.6]) / 100  # cm -> m\n",
    "hw_alcohol = np.array([24.5, 33.5, 25.1, 30.0]) / 100  # cm -> m\n",
    "\n",
    "# Niepewność pomiaru\n",
    "delta_h = 0.001\n",
    "\n",
    "# Obliczanie niepewności dla każdego ciała\n",
    "delta_R_water = [\n",
    "    delta_R(h0, hp, hw, delta_h) for h0, hp, hw in zip(h0_water, hp_water, hw_water)\n",
    "]\n",
    "delta_R_alcohol = [\n",
    "    delta_R(h0, hp, hw, delta_h)\n",
    "    for h0, hp, hw in zip(h0_alcohol, hp_alcohol, hw_alcohol)\n",
    "]\n",
    "\n",
    "# Wyświetlanie wyników\n",
    "print(\"Niepewności dla wody:\")\n",
    "for i, delta in enumerate(delta_R_water, 1):\n",
    "    print(f\"Ciało {i}: {delta:.4f}\")\n",
    "\n",
    "print(\"\\nNiepewności dla alkoholu:\")\n",
    "for i, delta in enumerate(delta_R_alcohol, 1):\n",
    "    print(f\"Ciało {i}: {delta:.4f}\")"
   ]
  },
  {
   "cell_type": "code",
   "execution_count": 5,
   "metadata": {},
   "outputs": [
    {
     "name": "stdout",
     "output_type": "stream",
     "text": [
      "[np.float64(2.583333333333331), np.float64(8.199999999999994), np.float64(7.749999999999993), np.float64(10.37499999999999)]\n",
      "[np.float64(3.3333333333333335), np.float64(10.249999999999995), np.float64(7.75), np.float64(13.666666666666657)]\n"
     ]
    }
   ],
   "source": [
    "R_water = [R(h0, hp, hw) for h0, hp, hw in zip(h0_water, hp_water, hw_water)]\n",
    "R_alcohol = [R(h0, hp, hw) for h0, hp, hw in zip(h0_alcohol, hp_alcohol, hw_alcohol)]\n",
    "\n",
    "print(R_water)\n",
    "print(R_alcohol)"
   ]
  },
  {
   "cell_type": "code",
   "execution_count": 6,
   "metadata": {},
   "outputs": [
    {
     "name": "stdout",
     "output_type": "stream",
     "text": [
      "[np.float64(1.631578947368422), np.float64(1.138888888888889), np.float64(1.1481481481481484), np.float64(1.1066666666666667)]\n",
      "[np.float64(1.4285714285714286), np.float64(1.1081081081081081), np.float64(1.1481481481481481), np.float64(1.0789473684210527)]\n"
     ]
    }
   ],
   "source": [
    "R_water = [R2(h0, hp, hw) for h0, hp, hw in zip(h0_water, hp_water, hw_water)]\n",
    "R_alcohol = [R2(h0, hp, hw) for h0, hp, hw in zip(h0_alcohol, hp_alcohol, hw_alcohol)]\n",
    "\n",
    "print(R_water)\n",
    "print(R_alcohol)"
   ]
  },
  {
   "cell_type": "code",
   "execution_count": 7,
   "metadata": {},
   "outputs": [
    {
     "name": "stdout",
     "output_type": "stream",
     "text": [
      "Odwrotności gęstości względnych:\n",
      "\n",
      "Metal\t\tρc/ρwoda\t\tρc/ρalkohol\n",
      "--------------------------------------------------\n",
      "Stal             7.69\t\t   11.11\n",
      "Aluminium        2.38\t\t    3.45\n",
      "Ołów            12.50\t\t   14.29\n",
      "Miedź            7.69\t\t   10.00\n"
     ]
    }
   ],
   "source": [
    "# Dane z tabeli\n",
    "metals = [\"Stal\", \"Aluminium\", \"Ołów\", \"Miedź\"]\n",
    "rho_water = [0.13, 0.42, 0.08, 0.13]\n",
    "rho_alcohol = [0.09, 0.29, 0.07, 0.10]\n",
    "\n",
    "# Obliczanie odwrotności\n",
    "rho_water_inv = [1 / x for x in rho_water]\n",
    "rho_alcohol_inv = [1 / x for x in rho_alcohol]\n",
    "\n",
    "# Wyświetlanie wyników\n",
    "print(\"Odwrotności gęstości względnych:\")\n",
    "print(\"\\nMetal\\t\\tρc/ρwoda\\t\\tρc/ρalkohol\")\n",
    "print(\"-\" * 50)\n",
    "for metal, w, a in zip(metals, rho_water_inv, rho_alcohol_inv):\n",
    "    print(f\"{metal:<12} {w:>8.2f}\\t\\t{a:>8.2f}\")"
   ]
  },
  {
   "cell_type": "code",
   "execution_count": null,
   "metadata": {},
   "outputs": [],
   "source": []
  }
 ],
 "metadata": {
  "kernelspec": {
   "display_name": "venv",
   "language": "python",
   "name": "python3"
  },
  "language_info": {
   "codemirror_mode": {
    "name": "ipython",
    "version": 3
   },
   "file_extension": ".py",
   "mimetype": "text/x-python",
   "name": "python",
   "nbconvert_exporter": "python",
   "pygments_lexer": "ipython3",
   "version": "3.12.0"
  }
 },
 "nbformat": 4,
 "nbformat_minor": 2
}
