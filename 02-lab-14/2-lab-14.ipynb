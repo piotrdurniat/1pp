{
 "cells": [
  {
   "cell_type": "markdown",
   "metadata": {},
   "source": [
    "# Ćwiczenie 14 - Wyznaczanie przyspieszenia ziemskiego przy użyciu wahadła rewersyjnego\n"
   ]
  },
  {
   "cell_type": "code",
   "execution_count": 8,
   "metadata": {},
   "outputs": [],
   "source": [
    "from IPython.display import display, Math\n",
    "import matplotlib.pyplot as plt\n",
    "import numpy as np"
   ]
  },
  {
   "cell_type": "code",
   "execution_count": 9,
   "metadata": {},
   "outputs": [],
   "source": [
    "N = 10\n",
    "time = [21.132, 21.140, 21.136, 21.135, 21.135, 21.136, 21.134, 21.130, 21.135, 21.133]"
   ]
  },
  {
   "cell_type": "markdown",
   "metadata": {},
   "source": [
    "## Wartości średnie\n"
   ]
  },
  {
   "cell_type": "code",
   "execution_count": 10,
   "metadata": {},
   "outputs": [
    {
     "data": {
      "text/latex": [
       "$\\displaystyle \\bar{t} = 21.1346$"
      ],
      "text/plain": [
       "<IPython.core.display.Math object>"
      ]
     },
     "metadata": {},
     "output_type": "display_data"
    }
   ],
   "source": [
    "t_avg = np.mean(time)\n",
    "\n",
    "display(Math(r\"\\bar{t} = \" + str(t_avg)))"
   ]
  },
  {
   "cell_type": "markdown",
   "metadata": {},
   "source": [
    "## Niepewności pomiarowe\n",
    "\n",
    "$$\n",
    "u_c(x) = \\sqrt{u_A^2(x) + u_B^2(x)}\n",
    "$$\n",
    "\n",
    "$$\n",
    "u_A(x) = \\sqrt{\\frac{1}{N-1} \\sum_{i=1}^{N} (x_i - \\bar{x})^2}\n",
    "$$\n",
    "\n",
    "$$\n",
    "u_B(x) = \\frac{\\Delta x}{\\sqrt{3}}\n",
    "$$\n"
   ]
  },
  {
   "cell_type": "markdown",
   "metadata": {},
   "source": [
    "### Niepewność pomiaru czasu\n"
   ]
  },
  {
   "cell_type": "code",
   "execution_count": 11,
   "metadata": {},
   "outputs": [
    {
     "data": {
      "text/latex": [
       "$\\displaystyle u_A(t) = 0.002674987019698717$"
      ],
      "text/plain": [
       "<IPython.core.display.Math object>"
      ]
     },
     "metadata": {},
     "output_type": "display_data"
    },
    {
     "data": {
      "text/latex": [
       "$\\displaystyle u_B(t) = 0.0005773502691896258$"
      ],
      "text/plain": [
       "<IPython.core.display.Math object>"
      ]
     },
     "metadata": {},
     "output_type": "display_data"
    },
    {
     "data": {
      "text/latex": [
       "$\\displaystyle u_c(t) = 0.002736583433570034$"
      ],
      "text/plain": [
       "<IPython.core.display.Math object>"
      ]
     },
     "metadata": {},
     "output_type": "display_data"
    }
   ],
   "source": [
    "u_A_t = np.std(time, ddof=1)\n",
    "\n",
    "u_B_t = 0.001 / np.sqrt(3)\n",
    "\n",
    "u_c_t = np.sqrt(u_A_t**2 + u_B_t**2)\n",
    "\n",
    "display(Math(r\"u_A(t) = \" + str(u_A_t)))\n",
    "\n",
    "display(Math(r\"u_B(t) = \" + str(u_B_t)))\n",
    "\n",
    "display(Math(r\"u_c(t) = \" + str(u_c_t)))"
   ]
  },
  {
   "cell_type": "markdown",
   "metadata": {},
   "source": [
    "### Niepewność pomiaru okresu\n",
    "\n",
    "$$\n",
    "u_c(T) = \\sqrt{\\left(\\frac{\\partial}{\\partial t} T\\right)^2 u^2(t)}\n",
    "=\n",
    "\\sqrt{\\left(\\frac{\\partial}{\\partial t} \\frac{t}{N}\\right)^2 u^2(t)}\n",
    "=\n",
    "\\sqrt{ \\frac{1}{N^2} \\cdot u^2(t)} = \\frac{u_c(t)}{N}\n",
    "$$\n"
   ]
  },
  {
   "cell_type": "code",
   "execution_count": 12,
   "metadata": {},
   "outputs": [
    {
     "data": {
      "text/latex": [
       "$\\displaystyle u_c(T) = 0.0001368291716785017$"
      ],
      "text/plain": [
       "<IPython.core.display.Math object>"
      ]
     },
     "metadata": {},
     "output_type": "display_data"
    }
   ],
   "source": [
    "N_T = 20\n",
    "u_c_T = u_c_t / N_T\n",
    "\n",
    "display(Math(r\"u_c(T) = \" + str(u_c_T)))"
   ]
  },
  {
   "cell_type": "markdown",
   "metadata": {},
   "source": [
    "### Niepewność pomiaru długości zredukowanej:\n"
   ]
  },
  {
   "cell_type": "code",
   "execution_count": 13,
   "metadata": {},
   "outputs": [
    {
     "data": {
      "text/latex": [
       "$\\displaystyle u(L) = 0.0005773502691896258$"
      ],
      "text/plain": [
       "<IPython.core.display.Math object>"
      ]
     },
     "metadata": {},
     "output_type": "display_data"
    }
   ],
   "source": [
    "u_L = 0.001 / np.sqrt(3)\n",
    "\n",
    "display(Math(r\"u(L) = \" + str(u_L)))"
   ]
  },
  {
   "cell_type": "markdown",
   "metadata": {},
   "source": [
    "### Niepewność pomiaru przyspieszenia ziemskiego:\n",
    "\n",
    "$$\n",
    "u(g) = \\frac{u(L)}{L} + \\frac{2 u(T)}{T}\n",
    "$$\n"
   ]
  },
  {
   "cell_type": "code",
   "execution_count": 14,
   "metadata": {},
   "outputs": [],
   "source": [
    "L = 0.5"
   ]
  },
  {
   "cell_type": "markdown",
   "metadata": {},
   "source": [
    "#### Wahadło rewersyjne:\n"
   ]
  },
  {
   "cell_type": "code",
   "execution_count": 15,
   "metadata": {},
   "outputs": [
    {
     "name": "stdout",
     "output_type": "stream",
     "text": [
      "1.280375\n"
     ]
    },
    {
     "data": {
      "text/latex": [
       "$\\displaystyle u_g = 0.0013684335020477108$"
      ],
      "text/plain": [
       "<IPython.core.display.Math object>"
      ]
     },
     "metadata": {},
     "output_type": "display_data"
    }
   ],
   "source": [
    "L = 0.5\n",
    "\n",
    "T = 25.6075 / 20\n",
    "print(T)\n",
    "u_g = u_L / L + 2 * u_c_T / T\n",
    "\n",
    "display(Math(r\"u_g = \" + str(u_g)))"
   ]
  },
  {
   "cell_type": "markdown",
   "metadata": {},
   "source": [
    "#### Wahadło matematyczne:\n"
   ]
  },
  {
   "cell_type": "code",
   "execution_count": 16,
   "metadata": {},
   "outputs": [
    {
     "data": {
      "text/latex": [
       "$\\displaystyle u_g = 0.0011653214474593185$"
      ],
      "text/plain": [
       "<IPython.core.display.Math object>"
      ]
     },
     "metadata": {},
     "output_type": "display_data"
    }
   ],
   "source": [
    "T = 25.766\n",
    "u_g = u_L / L + 2 * u_c_T / T\n",
    "\n",
    "display(Math(r\"u_g = \" + str(u_g)))"
   ]
  },
  {
   "cell_type": "code",
   "execution_count": null,
   "metadata": {},
   "outputs": [],
   "source": []
  }
 ],
 "metadata": {
  "kernelspec": {
   "display_name": "venv",
   "language": "python",
   "name": "python3"
  },
  "language_info": {
   "codemirror_mode": {
    "name": "ipython",
    "version": 3
   },
   "file_extension": ".py",
   "mimetype": "text/x-python",
   "name": "python",
   "nbconvert_exporter": "python",
   "pygments_lexer": "ipython3",
   "version": "3.12.0"
  }
 },
 "nbformat": 4,
 "nbformat_minor": 2
}
