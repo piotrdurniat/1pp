{
 "cells": [
  {
   "cell_type": "markdown",
   "metadata": {},
   "source": [
    "# Lab 04 - ćwiczenie 11\n"
   ]
  },
  {
   "cell_type": "code",
   "execution_count": 2,
   "metadata": {},
   "outputs": [],
   "source": [
    "from IPython.display import display, Math\n",
    "import matplotlib.pyplot as plt\n",
    "import numpy as np"
   ]
  },
  {
   "cell_type": "markdown",
   "metadata": {
    "vscode": {
     "languageId": "plaintext"
    }
   },
   "source": [
    "## Dane:\n"
   ]
  },
  {
   "cell_type": "code",
   "execution_count": 3,
   "metadata": {},
   "outputs": [],
   "source": [
    "# walec\n",
    "h = 0.06\n",
    "d = 0.06\n",
    "m = 1.33\n",
    "\n",
    "\n",
    "# okres drgań samej ramki\n",
    "T_0 = 1.8135\n",
    "\n",
    "# okres drgań ramki z bryłą wzorcową\n",
    "T_w = 2.5192\n",
    "\n",
    "# okresy drgań ramki z badaną bryłą\n",
    "T_x = 2.3001\n",
    "T_y = 2.3008\n",
    "T_z = 2.2937\n",
    "T_s = 2.3006\n",
    "T_t = 2.2573"
   ]
  },
  {
   "cell_type": "markdown",
   "metadata": {},
   "source": [
    "## Moment bezwładności bryły wzorcowej:\n",
    "\n",
    "$$\n",
    "I_z = \\frac{1}{2} \\cdot m \\cdot \\left(\\frac{d}{2}\\right)^2\n",
    "$$\n"
   ]
  },
  {
   "cell_type": "code",
   "execution_count": 4,
   "metadata": {},
   "outputs": [
    {
     "data": {
      "text/latex": [
       "$\\displaystyle I_w = 0.000598 \\ \\text{kg} \\ \\text{m}^2$"
      ],
      "text/plain": [
       "<IPython.core.display.Math object>"
      ]
     },
     "metadata": {},
     "output_type": "display_data"
    }
   ],
   "source": [
    "I_w = 1 / 2 * m * (d / 2) ** 2\n",
    "\n",
    "display(Math(f\"I_w = {I_w:.6f} \\\\ \\\\text{{kg}} \\\\ \\\\text{{m}}^2\"))"
   ]
  },
  {
   "cell_type": "markdown",
   "metadata": {},
   "source": [
    "## Moment bezwładności badanej bryły:\n",
    "\n",
    "$$\n",
    "    I_x = \\frac{T_x^2 - T_0^2}{T_w^2 - T_0^2} \\cdot I_w\n",
    "$$\n"
   ]
  },
  {
   "cell_type": "code",
   "execution_count": 5,
   "metadata": {},
   "outputs": [
    {
     "data": {
      "text/latex": [
       "$\\displaystyle I_x = 0.000392 \\ \\text{kg} \\ \\text{m}^2$"
      ],
      "text/plain": [
       "<IPython.core.display.Math object>"
      ]
     },
     "metadata": {},
     "output_type": "display_data"
    },
    {
     "data": {
      "text/latex": [
       "$\\displaystyle I_y = 0.000392 \\ \\text{kg} \\ \\text{m}^2$"
      ],
      "text/plain": [
       "<IPython.core.display.Math object>"
      ]
     },
     "metadata": {},
     "output_type": "display_data"
    },
    {
     "data": {
      "text/latex": [
       "$\\displaystyle I_z = 0.000386 \\ \\text{kg} \\ \\text{m}^2$"
      ],
      "text/plain": [
       "<IPython.core.display.Math object>"
      ]
     },
     "metadata": {},
     "output_type": "display_data"
    },
    {
     "data": {
      "text/latex": [
       "$\\displaystyle I_s = 0.000392 \\ \\text{kg} \\ \\text{m}^2$"
      ],
      "text/plain": [
       "<IPython.core.display.Math object>"
      ]
     },
     "metadata": {},
     "output_type": "display_data"
    },
    {
     "data": {
      "text/latex": [
       "$\\displaystyle I_t = 0.000354 \\ \\text{kg} \\ \\text{m}^2$"
      ],
      "text/plain": [
       "<IPython.core.display.Math object>"
      ]
     },
     "metadata": {},
     "output_type": "display_data"
    },
    {
     "name": "stdout",
     "output_type": "stream",
     "text": [
      "(2.3001^2 - 1.8135^2)/(2.5192^2 - 1.8135^2) * 0.0005985\n"
     ]
    },
    {
     "data": {
      "text/latex": [
       "$\\displaystyle I_x = \\frac{2.3001^2 - 1.8135^2}{2.5192^2 - 1.8135^2} \\cdot 0.0006 = 0.000392 \\ \\text{kg} \\ \\text{m}^2$"
      ],
      "text/plain": [
       "<IPython.core.display.Math object>"
      ]
     },
     "metadata": {},
     "output_type": "display_data"
    }
   ],
   "source": [
    "I_x = (T_x**2 - T_0**2) / (T_w**2 - T_0**2) * I_w\n",
    "I_y = (T_y**2 - T_0**2) / (T_w**2 - T_0**2) * I_w\n",
    "I_z = (T_z**2 - T_0**2) / (T_w**2 - T_0**2) * I_w\n",
    "I_s = (T_s**2 - T_0**2) / (T_w**2 - T_0**2) * I_w\n",
    "I_t = (T_t**2 - T_0**2) / (T_w**2 - T_0**2) * I_w\n",
    "\n",
    "display(Math(f\"I_x = {I_x:.6f} \\\\ \\\\text{{kg}} \\\\ \\\\text{{m}}^2\"))\n",
    "display(Math(f\"I_y = {I_y:.6f} \\\\ \\\\text{{kg}} \\\\ \\\\text{{m}}^2\"))\n",
    "display(Math(f\"I_z = {I_z:.6f} \\\\ \\\\text{{kg}} \\\\ \\\\text{{m}}^2\"))\n",
    "display(Math(f\"I_s = {I_s:.6f} \\\\ \\\\text{{kg}} \\\\ \\\\text{{m}}^2\"))\n",
    "display(Math(f\"I_t = {I_t:.6f} \\\\ \\\\text{{kg}} \\\\ \\\\text{{m}}^2\"))\n",
    "\n",
    "\n",
    "# Example calculation for I_x for report\n",
    "example_calc = f\"I_x = \\\\frac{{{T_x:.4f}^2 - {T_0:.4f}^2}}{{{T_w:.4f}^2 - {T_0:.4f}^2}} \\\\cdot {I_w:.4f} = {I_x:.6f} \\\\ \\\\text{{kg}} \\\\ \\\\text{{m}}^2\"\n",
    "\n",
    "# For Wolfram Alpha:\n",
    "print(f\"({T_x}^2 - {T_0}^2)/({T_w}^2 - {T_0}^2) * {I_w}\")\n",
    "display(Math(example_calc))"
   ]
  },
  {
   "cell_type": "markdown",
   "metadata": {},
   "source": [
    "## Elipsoida bezwładności badanej bryły:\n",
    "\n",
    "$$\n",
    "    \\frac{x^2}{a^2} + \\frac{y^2}{b^2} + \\frac{z^2}{c^2} = 1\n",
    "$$\n",
    "\n",
    "$$\n",
    "    a = \\frac{1}{\\sqrt{I_x}}, \\quad\n",
    "    b = \\frac{1}{\\sqrt{I_y}}, \\quad\n",
    "    c = \\frac{1}{\\sqrt{I_z}}\n",
    "$$\n"
   ]
  },
  {
   "cell_type": "code",
   "execution_count": 6,
   "metadata": {},
   "outputs": [
    {
     "data": {
      "text/latex": [
       "$\\displaystyle a = 50.519636 \\ \\text{m}$"
      ],
      "text/plain": [
       "<IPython.core.display.Math object>"
      ]
     },
     "metadata": {},
     "output_type": "display_data"
    },
    {
     "data": {
      "text/latex": [
       "$\\displaystyle b = 50.479042 \\ \\text{m}$"
      ],
      "text/plain": [
       "<IPython.core.display.Math object>"
      ]
     },
     "metadata": {},
     "output_type": "display_data"
    },
    {
     "data": {
      "text/latex": [
       "$\\displaystyle c = 50.894785 \\ \\text{m}$"
      ],
      "text/plain": [
       "<IPython.core.display.Math object>"
      ]
     },
     "metadata": {},
     "output_type": "display_data"
    },
    {
     "name": "stdout",
     "output_type": "stream",
     "text": [
      "50.51963556001976\n",
      "50.47904236866827\n",
      "50.89478538917224\n"
     ]
    }
   ],
   "source": [
    "a = 1 / np.sqrt(I_x)\n",
    "b = 1 / np.sqrt(I_y)\n",
    "c = 1 / np.sqrt(I_z)\n",
    "\n",
    "display(Math(f\"a = {a:.6f} \\\\ \\\\text{{m}}\"))\n",
    "display(Math(f\"b = {b:.6f} \\\\ \\\\text{{m}}\"))\n",
    "display(Math(f\"c = {c:.6f} \\\\ \\\\text{{m}}\"))\n",
    "\n",
    "\n",
    "print(a)\n",
    "print(b)\n",
    "print(c)"
   ]
  },
  {
   "cell_type": "markdown",
   "metadata": {},
   "source": [
    "# Moment bezwładności względem osi niebędącej główną osią bezwładności korzystając z elipsoidy:\n",
    "\n",
    "Oś przechodzi przez dwa przeciwległe wierzchołki sześcianu o boku $a$, stąd współrzędne jednego z punktów leżącego na osi $s$ wynoszą:\n",
    "\n",
    "$$\n",
    "x = \\frac{a}{2}, \\quad\n",
    "y = \\frac{a}{2}, \\quad\n",
    "z = \\frac{a}{2}\n",
    "$$\n",
    "\n",
    "Równanie prostej przechodzącej przez środek sześcianu (0, 0, 0) i punkt (a/2, a/2, a/2) ma postać:\n",
    "\n",
    "$$\n",
    "\\frac{x}{a/2} = \\frac{y}{a/2} = \\frac{z}{a/2}\n",
    "\\Rightarrow\n",
    "x = y = z\n",
    "$$\n",
    "\n",
    "Rozwiązując układ równań \\eqref{eq:elipsoida_bezwladnosci} z równaniem prostej \\eqref{eq:prosta_przechodzaca_przez_srodek_szesciany} otrzymujemy:\n",
    "\n",
    "$$\n",
    "     \\begin{cases}\n",
    "         \\frac{x^2}{a^2} + \\frac{y^2}{b^2} + \\frac{z^2}{c^2} = 1 \\\\\n",
    "         x = y = z\n",
    "     \\end{cases}\n",
    "$$\n",
    "\n",
    "$$\n",
    "      x = \\sqrt{\\frac{1}{\\frac{1}{a^2} + \\frac{1}{b^2} + \\frac{1}{c^2}}}\n",
    "$$\n",
    "\n",
    "$$\n",
    "R_i = \\sqrt{x^2 + y^2 + z^2}\n",
    "$$\n",
    "\n",
    "$$\n",
    "I_i = \\frac{1}{R_i^2}\n",
    "$$\n"
   ]
  },
  {
   "cell_type": "code",
   "execution_count": 7,
   "metadata": {},
   "outputs": [
    {
     "name": "stdout",
     "output_type": "stream",
     "text": [
      "29.2313135640954\n",
      "x = sqrt(1 / (1/50.519636^2 + 1/50.479042^2 + 1/50.894785^2)) = 29.231314\n"
     ]
    }
   ],
   "source": [
    "x = np.sqrt(1 / (1 / a**2 + 1 / b**2 + 1 / c**2))\n",
    "print(x)\n",
    "\n",
    "print(f\"x = sqrt(1 / (1/{a:.6f}^2 + 1/{b:.6f}^2 + 1/{c:.6f}^2)) = {x:.6f}\")"
   ]
  },
  {
   "cell_type": "markdown",
   "metadata": {},
   "source": [
    "$$\n",
    "I_i = \\frac{1}{R_i^2} = \\frac{1}{3x^2}\n",
    "$$\n"
   ]
  },
  {
   "cell_type": "code",
   "execution_count": 8,
   "metadata": {},
   "outputs": [
    {
     "name": "stdout",
     "output_type": "stream",
     "text": [
      "I_s = 1 / (3 * 29.231314^2) = 0.000390\n",
      "Previous calculation from okres drgań\n",
      "0.0003922639447760625\n",
      "\n",
      "New calculation from elipsoida\n",
      "0.0003901055077645737\n",
      "Difference: 0.005503\n"
     ]
    }
   ],
   "source": [
    "I_s_2 = 1 / (3 * x**2)\n",
    "\n",
    "print(f\"I_s = 1 / (3 * {x:.6f}^2) = {I_s_2:.6f}\")\n",
    "\n",
    "# Previous calculation\n",
    "print(\"Previous calculation from okres drgań\")\n",
    "print(I_s)\n",
    "\n",
    "print()\n",
    "print(\"New calculation from elipsoida\")\n",
    "print(I_s_2)\n",
    "\n",
    "difference = (I_s - I_s_2) / I_s\n",
    "print(f\"Difference: {difference:.6f}\")"
   ]
  },
  {
   "cell_type": "markdown",
   "metadata": {},
   "source": [
    "$$\n",
    "T_1s = 2\\pi\\frac{I_s + I_0}{D}\n",
    "$$\n"
   ]
  },
  {
   "cell_type": "code",
   "execution_count": 1,
   "metadata": {},
   "outputs": [
    {
     "name": "stdout",
     "output_type": "stream",
     "text": [
      "Distance between the parallel lines: 0.007071067811865475\n"
     ]
    }
   ],
   "source": [
    "import numpy as np\n",
    "\n",
    "# Given value of a\n",
    "a = 0.03\n",
    "\n",
    "# Define vectors\n",
    "d = np.array([a / 2, -a / 2, -a / 2])\n",
    "t = np.array([a / 2, -a, -a])\n",
    "\n",
    "# Compute cross product\n",
    "cross_product = np.cross(t, d)\n",
    "\n",
    "# Compute distance between parallel lines\n",
    "distance = np.linalg.norm(cross_product) / np.linalg.norm(t)\n",
    "\n",
    "# Print result\n",
    "print(\"Distance between the parallel lines:\", distance)"
   ]
  },
  {
   "cell_type": "code",
   "execution_count": 9,
   "metadata": {},
   "outputs": [
    {
     "name": "stdout",
     "output_type": "stream",
     "text": [
      "Distance between the parallel lines: 0.011785113019775794\n",
      "Final moment of inertia I': 0.0005202027876133589\n"
     ]
    }
   ],
   "source": [
    "import numpy as np\n",
    "\n",
    "# Given values\n",
    "a = 0.05\n",
    "m = 0.9408  # Mass\n",
    "d = 0.014142135623731  # Distance from center of mass\n",
    "I = 0.00038953612094669210550\n",
    "\n",
    "# Define vectors\n",
    "d_vec = np.array([a / 2, -a / 2, -a / 2])\n",
    "t_vec = np.array([a / 2, -a, -a])\n",
    "\n",
    "# Compute cross product\n",
    "cross_product = np.cross(t_vec, d_vec)\n",
    "\n",
    "# Compute distance between parallel lines\n",
    "distance = np.linalg.norm(cross_product) / np.linalg.norm(t_vec)\n",
    "\n",
    "# Compute final moment of inertia using Steiner's theorem\n",
    "I_final = I + m * distance**2\n",
    "\n",
    "# Print results\n",
    "print(\"Distance between the parallel lines:\", distance)\n",
    "print(\"Final moment of inertia I':\", I_final)"
   ]
  },
  {
   "cell_type": "code",
   "execution_count": 11,
   "metadata": {},
   "outputs": [
    {
     "name": "stdout",
     "output_type": "stream",
     "text": [
      "The distance between the lines is: 0.014142135623731 m\n",
      "Alternative calculation: 0.014142135623731 m\n",
      "Distance from P to line t': 0.014142135623731 m\n"
     ]
    }
   ],
   "source": [
    "import numpy as np\n",
    "\n",
    "\n",
    "def distance_between_parallel_lines(point1, point2, point3, direction):\n",
    "    \"\"\"\n",
    "    Calculate the distance between two parallel lines in 3D space.\n",
    "\n",
    "    Parameters:\n",
    "    point1, point2: Two points on the first line\n",
    "    point3: A point on the second line\n",
    "    direction: Direction vector of both lines (they are parallel)\n",
    "\n",
    "    Returns:\n",
    "    Distance between the lines\n",
    "    \"\"\"\n",
    "    # Convert to numpy arrays for vector operations\n",
    "    point1 = np.array(point1)\n",
    "    point2 = np.array(point2)\n",
    "    point3 = np.array(point3)\n",
    "    direction = np.array(direction)\n",
    "\n",
    "    # Normalize the direction vector\n",
    "    direction_unit = direction / np.linalg.norm(direction)\n",
    "\n",
    "    # Vector connecting points on the two lines\n",
    "    connecting_vector = point3 - point1\n",
    "\n",
    "    # Cross product of direction and connecting vector\n",
    "    cross_product = np.cross(direction_unit, connecting_vector)\n",
    "\n",
    "    # Distance is the magnitude of this cross product\n",
    "    distance = np.linalg.norm(cross_product)\n",
    "\n",
    "    return distance\n",
    "\n",
    "\n",
    "# Parameters for our specific problem\n",
    "a = 0.06  # Side length of the cube in meters\n",
    "\n",
    "# Points and direction vector\n",
    "P = (-a / 2, a / 2, a / 2)\n",
    "Q = (0, -a / 2, -a / 2)\n",
    "origin = (0, 0, 0)\n",
    "direction_vector = (a / 2, -a, -a)\n",
    "\n",
    "# Calculate the distance\n",
    "distance = distance_between_parallel_lines(P, Q, origin, direction_vector)\n",
    "\n",
    "print(f\"The distance between the lines is: {distance:.15f} m\")\n",
    "\n",
    "# Alternative calculation using direct formula for this specific case\n",
    "# Vector from P to origin\n",
    "PO = np.array(origin) - np.array(P)\n",
    "# Direction vector\n",
    "v = np.array(direction_vector)\n",
    "# Unit direction vector\n",
    "v_unit = v / np.linalg.norm(v)\n",
    "# Projection of PO onto v\n",
    "projection = np.dot(PO, v_unit) * v_unit\n",
    "# The perpendicular component is what we need\n",
    "perpendicular = PO - projection\n",
    "# The distance is the magnitude of this perpendicular component\n",
    "distance_alt = np.linalg.norm(perpendicular)\n",
    "\n",
    "print(f\"Alternative calculation: {distance_alt:.15f} m\")\n",
    "\n",
    "\n",
    "# For verification: minimal distance from a point to a line\n",
    "def point_to_line_distance(point, line_point, line_direction):\n",
    "    point = np.array(point)\n",
    "    line_point = np.array(line_point)\n",
    "    line_direction = np.array(line_direction)\n",
    "\n",
    "    # Normalize direction vector\n",
    "    line_direction = line_direction / np.linalg.norm(line_direction)\n",
    "\n",
    "    # Vector from line point to the given point\n",
    "    point_vector = point - line_point\n",
    "\n",
    "    # Cross product gives the perpendicular component\n",
    "    cross_product = np.cross(point_vector, line_direction)\n",
    "\n",
    "    return np.linalg.norm(cross_product)\n",
    "\n",
    "\n",
    "# Calculate the distance from P to the line t'\n",
    "distance_P_to_tprime = point_to_line_distance(P, origin, direction_vector)\n",
    "print(f\"Distance from P to line t': {distance_P_to_tprime:.15f} m\")"
   ]
  },
  {
   "cell_type": "code",
   "execution_count": 7,
   "metadata": {},
   "outputs": [
    {
     "name": "stdout",
     "output_type": "stream",
     "text": [
      "Punkt przebicia elipsoidy: (16.889037, -33.778073, -33.778073) m\n",
      "Moment bezwładności I_t': 0.00038954 kgm²\n",
      "Odległość między osiami t i t': 0.01178511 m\n",
      "Moment bezwładności I_t (z twierdzenia Steinera): 0.00052020 kgm²\n"
     ]
    }
   ],
   "source": [
    "import numpy as np\n",
    "\n",
    "\n",
    "def calculate_moment_of_inertia():\n",
    "    # Parametry\n",
    "    a = 0.05  # bok sześcianu w metrach\n",
    "    m = 0.9408  # masa bryły w kg (przykładowa wartość, należy zastąpić rzeczywistą)\n",
    "\n",
    "    # Półosie elipsoidy bezwładności (wartości z dokumentu)\n",
    "    axis_a = 50.51963556001976\n",
    "    axis_b = 50.47904236866827\n",
    "    axis_c = 50.89478538917224\n",
    "\n",
    "    # Obliczenie punktu przebicia elipsoidy osią t'\n",
    "    denominator = np.sqrt(1 / axis_a**2 + 4 / axis_b**2 + 4 / axis_c**2)\n",
    "    x = 1 / denominator\n",
    "    y = -2 / denominator\n",
    "    z = -2 / denominator\n",
    "\n",
    "    print(f\"Punkt przebicia elipsoidy: ({x:.6f}, {y:.6f}, {z:.6f}) m\")\n",
    "\n",
    "    # Obliczenie momentu bezwładności I_t' (względem osi przechodzącej przez środek masy)\n",
    "    R_squared = x**2 + y**2 + z**2\n",
    "    I_t_prime = 1 / R_squared\n",
    "\n",
    "    print(f\"Moment bezwładności I_t': {I_t_prime:.8f} kgm²\")\n",
    "\n",
    "    # Obliczenie odległości między osiami t i t'\n",
    "    # Punkty na osi t\n",
    "    P = np.array([-a / 2, a / 2, a / 2])\n",
    "    Q = np.array([0, -a / 2, -a / 2])\n",
    "\n",
    "    # Wektor kierunkowy osi t (i t', bo są równoległe)\n",
    "    direction = np.array([a / 2, -a, -a])\n",
    "    direction_unit = direction / np.linalg.norm(direction)\n",
    "\n",
    "    # Punkt na osi t'\n",
    "    origin = np.array([0, 0, 0])\n",
    "\n",
    "    # Wektor łączący początek układu z punktem P\n",
    "    OP = P - origin\n",
    "\n",
    "    # Projekcja OP na kierunek osi\n",
    "    projection = np.dot(OP, direction_unit) * direction_unit\n",
    "\n",
    "    # Składowa prostopadła - to jest wektor odległości między osiami\n",
    "    perpendicular = OP - projection\n",
    "\n",
    "    # Odległość między osiami to długość tego wektora\n",
    "    d = np.linalg.norm(perpendicular)\n",
    "\n",
    "    print(f\"Odległość między osiami t i t': {d:.8f} m\")\n",
    "\n",
    "    # Zastosowanie twierdzenia Steinera do obliczenia momentu bezwładności I_t\n",
    "    I_t = I_t_prime + m * d**2\n",
    "\n",
    "    print(f\"Moment bezwładności I_t (z twierdzenia Steinera): {I_t:.8f} kgm²\")\n",
    "\n",
    "    return I_t\n",
    "\n",
    "\n",
    "# Wykonanie obliczeń\n",
    "I_t = calculate_moment_of_inertia()"
   ]
  },
  {
   "cell_type": "code",
   "execution_count": 15,
   "metadata": {},
   "outputs": [
    {
     "name": "stdout",
     "output_type": "stream",
     "text": [
      "The lines are parallel (or collinear).\n",
      "Distance between the two lines: 0.015\n"
     ]
    }
   ],
   "source": [
    "import numpy as np\n",
    "\n",
    "# Given value of a\n",
    "a = 0.06\n",
    "\n",
    "# Define vectors for line 1 (direction vector)\n",
    "d1 = np.array([a / 2, -a, -a])\n",
    "\n",
    "# Define vectors for line 2 (direction vector)\n",
    "d2 = np.array([1 / 2, -1, -1])\n",
    "\n",
    "# Define point P1 on the first line\n",
    "P1 = np.array([-a / 4, a / 4, a / 4])\n",
    "\n",
    "# Define point P2 on the second line (using x = 0, y = a/4, z = a/4 as a simple choice)\n",
    "P2 = np.array([0, a / 4, a / 4])\n",
    "\n",
    "# Calculate the vector between points P1 and P2\n",
    "P1P2 = P2 - P1\n",
    "\n",
    "# Compute cross product of the direction vectors\n",
    "cross_product = np.cross(d1, d2)\n",
    "\n",
    "# Check if cross product is close to zero\n",
    "if np.linalg.norm(cross_product) == 0:\n",
    "    print(\"The lines are parallel (or collinear).\")\n",
    "    # For parallel lines, calculate distance between the point and the line\n",
    "    distance = np.linalg.norm(P1P2)  # Use distance from point to line formula\n",
    "else:\n",
    "    # Compute the distance between the two lines\n",
    "    distance = np.abs(np.dot(P1P2, cross_product)) / np.linalg.norm(cross_product)\n",
    "\n",
    "# Print result\n",
    "print(\"Distance between the two lines:\", distance)"
   ]
  },
  {
   "cell_type": "code",
   "execution_count": 6,
   "metadata": {},
   "outputs": [
    {
     "name": "stdout",
     "output_type": "stream",
     "text": [
      "Distance between the lines: 0.000000000000000 m\n"
     ]
    }
   ],
   "source": [
    "import numpy as np\n",
    "\n",
    "\n",
    "def distance_between_parallel_lines(point1, point3, direction):\n",
    "    \"\"\"\n",
    "    Calculate the shortest distance between two parallel lines in 3D space.\n",
    "\n",
    "    Parameters:\n",
    "    point1: A point on the first line\n",
    "    point3: A point on the second line\n",
    "    direction: Direction vector of both lines (they are parallel)\n",
    "\n",
    "    Returns:\n",
    "    Distance between the lines\n",
    "    \"\"\"\n",
    "    point1 = np.array(point1)\n",
    "    point3 = np.array(point3)\n",
    "    direction = np.array(direction)\n",
    "\n",
    "    # Normalize direction vector\n",
    "    direction_unit = direction / np.linalg.norm(direction)\n",
    "\n",
    "    # Vector between points on the two lines\n",
    "    connecting_vector = point3 - point1\n",
    "\n",
    "    # Compute distance using cross product formula\n",
    "    distance = np.linalg.norm(np.cross(connecting_vector, direction_unit))\n",
    "\n",
    "    return distance\n",
    "\n",
    "\n",
    "a = 0.06\n",
    "# Points and direction vector\n",
    "P = (-a / 2, a / 2, a / 2)\n",
    "Q = (0, -a / 2, -a / 2)\n",
    "direction_vector = (a / 2, -a, -a)\n",
    "\n",
    "# Calculate the distance\n",
    "distance = distance_between_parallel_lines(P, Q, direction_vector)\n",
    "print(f\"Distance between the lines: {distance:.15f} m\")"
   ]
  },
  {
   "cell_type": "code",
   "execution_count": null,
   "metadata": {},
   "outputs": [],
   "source": [
    "import numpy as np\n",
    "\n",
    "\n",
    "def point_to_line_distance(x1, y1, x2, y2, x0, y0):\n",
    "    \"\"\"\n",
    "    Calculate the perpendicular distance from a point (x0, y0) to a line passing through (x1, y1) and (x2, y2).\n",
    "\n",
    "    Parameters:\n",
    "    x1, y1: Coordinates of the first point on the line\n",
    "    x2, y2: Coordinates of the second point on the line\n",
    "    x0, y0: Coordinates of the point\n",
    "\n",
    "    Returns:\n",
    "    Distance from the point to the line\n",
    "    \"\"\"\n",
    "    numerator = abs((y2 - y1) * x0 - (x2 - x1) * y0 + x2 * y1 - y2 * x1)\n",
    "    denominator = np.sqrt((y2 - y1) ** 2 + (x2 - x1) ** 2)\n",
    "    return (\n",
    "        numerator / denominator if denominator != 0 else float(\"inf\")\n",
    "    )  # Avoid division by zero\n",
    "\n",
    "\n",
    "# Example usage:\n",
    "distance = point_to_line_distance()\n",
    "print(\"Distance:\", distance)"
   ]
  }
 ],
 "metadata": {
  "kernelspec": {
   "display_name": "venv",
   "language": "python",
   "name": "python3"
  },
  "language_info": {
   "codemirror_mode": {
    "name": "ipython",
    "version": 3
   },
   "file_extension": ".py",
   "mimetype": "text/x-python",
   "name": "python",
   "nbconvert_exporter": "python",
   "pygments_lexer": "ipython3",
   "version": "3.12.0"
  }
 },
 "nbformat": 4,
 "nbformat_minor": 2
}
