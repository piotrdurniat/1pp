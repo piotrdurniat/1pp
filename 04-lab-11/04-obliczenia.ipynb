{
 "cells": [
  {
   "cell_type": "markdown",
   "metadata": {},
   "source": [
    "# Lab 04 - ćwiczenie 11\n"
   ]
  },
  {
   "cell_type": "code",
   "execution_count": 1,
   "metadata": {},
   "outputs": [],
   "source": [
    "from IPython.display import display, Math\n",
    "import matplotlib.pyplot as plt\n",
    "import numpy as np"
   ]
  },
  {
   "cell_type": "markdown",
   "metadata": {
    "vscode": {
     "languageId": "plaintext"
    }
   },
   "source": [
    "## Dane:\n"
   ]
  },
  {
   "cell_type": "code",
   "execution_count": 2,
   "metadata": {},
   "outputs": [],
   "source": [
    "# walec\n",
    "h = 0.06\n",
    "d = 0.06\n",
    "m = 1.33\n",
    "\n",
    "\n",
    "# okres drgań samej ramki\n",
    "T_0 = 1.8135\n",
    "\n",
    "# okres drgań ramki z bryłą wzorcową\n",
    "T_w = 2.5192\n",
    "\n",
    "# okresy drgań ramki z badaną bryłą\n",
    "T_x = 2.3001\n",
    "T_y = 2.3008\n",
    "T_z = 2.2937\n",
    "T_s = 2.3006\n",
    "T_t = 2.2573"
   ]
  },
  {
   "cell_type": "markdown",
   "metadata": {},
   "source": [
    "## Moment bezwładności bryły wzorcowej:\n",
    "\n",
    "$$\n",
    "I_z = \\frac{1}{2} \\cdot m \\cdot \\left(\\frac{d}{2}\\right)^2\n",
    "$$\n"
   ]
  },
  {
   "cell_type": "code",
   "execution_count": 5,
   "metadata": {},
   "outputs": [
    {
     "data": {
      "text/latex": [
       "$\\displaystyle I_w = 0.000598 \\ \\text{kg} \\ \\text{m}^2$"
      ],
      "text/plain": [
       "<IPython.core.display.Math object>"
      ]
     },
     "metadata": {},
     "output_type": "display_data"
    }
   ],
   "source": [
    "I_w = 1 / 2 * m * (d / 2) ** 2\n",
    "\n",
    "display(Math(f\"I_w = {I_w:.6f} \\\\ \\\\text{{kg}} \\\\ \\\\text{{m}}^2\"))"
   ]
  },
  {
   "cell_type": "markdown",
   "metadata": {},
   "source": [
    "## Moment bezwładności badanej bryły:\n",
    "\n",
    "$$\n",
    "    I_x = \\frac{T_x^2 - T_0^2}{T_w^2 - T_0^2} \\cdot I_w\n",
    "$$\n"
   ]
  },
  {
   "cell_type": "code",
   "execution_count": 8,
   "metadata": {},
   "outputs": [
    {
     "data": {
      "text/latex": [
       "$\\displaystyle I_x = 0.000392 \\ \\text{kg} \\ \\text{m}^2$"
      ],
      "text/plain": [
       "<IPython.core.display.Math object>"
      ]
     },
     "metadata": {},
     "output_type": "display_data"
    },
    {
     "data": {
      "text/latex": [
       "$\\displaystyle I_y = 0.000392 \\ \\text{kg} \\ \\text{m}^2$"
      ],
      "text/plain": [
       "<IPython.core.display.Math object>"
      ]
     },
     "metadata": {},
     "output_type": "display_data"
    },
    {
     "data": {
      "text/latex": [
       "$\\displaystyle I_z = 0.000386 \\ \\text{kg} \\ \\text{m}^2$"
      ],
      "text/plain": [
       "<IPython.core.display.Math object>"
      ]
     },
     "metadata": {},
     "output_type": "display_data"
    },
    {
     "data": {
      "text/latex": [
       "$\\displaystyle I_s = 0.000392 \\ \\text{kg} \\ \\text{m}^2$"
      ],
      "text/plain": [
       "<IPython.core.display.Math object>"
      ]
     },
     "metadata": {},
     "output_type": "display_data"
    },
    {
     "data": {
      "text/latex": [
       "$\\displaystyle I_t = 0.000354 \\ \\text{kg} \\ \\text{m}^2$"
      ],
      "text/plain": [
       "<IPython.core.display.Math object>"
      ]
     },
     "metadata": {},
     "output_type": "display_data"
    },
    {
     "name": "stdout",
     "output_type": "stream",
     "text": [
      "(2.3001^2 - 1.8135^2)/(2.5192^2 - 1.8135^2) * 0.0005985\n"
     ]
    },
    {
     "data": {
      "text/latex": [
       "$\\displaystyle I_x = \\frac{2.3001^2 - 1.8135^2}{2.5192^2 - 1.8135^2} \\cdot 0.0006 = 0.000392 \\ \\text{kg} \\ \\text{m}^2$"
      ],
      "text/plain": [
       "<IPython.core.display.Math object>"
      ]
     },
     "metadata": {},
     "output_type": "display_data"
    }
   ],
   "source": [
    "I_x = (T_x**2 - T_0**2) / (T_w**2 - T_0**2) * I_w\n",
    "I_y = (T_y**2 - T_0**2) / (T_w**2 - T_0**2) * I_w\n",
    "I_z = (T_z**2 - T_0**2) / (T_w**2 - T_0**2) * I_w\n",
    "I_s = (T_s**2 - T_0**2) / (T_w**2 - T_0**2) * I_w\n",
    "I_t = (T_t**2 - T_0**2) / (T_w**2 - T_0**2) * I_w\n",
    "\n",
    "display(Math(f\"I_x = {I_x:.6f} \\\\ \\\\text{{kg}} \\\\ \\\\text{{m}}^2\"))\n",
    "display(Math(f\"I_y = {I_y:.6f} \\\\ \\\\text{{kg}} \\\\ \\\\text{{m}}^2\"))\n",
    "display(Math(f\"I_z = {I_z:.6f} \\\\ \\\\text{{kg}} \\\\ \\\\text{{m}}^2\"))\n",
    "display(Math(f\"I_s = {I_s:.6f} \\\\ \\\\text{{kg}} \\\\ \\\\text{{m}}^2\"))\n",
    "display(Math(f\"I_t = {I_t:.6f} \\\\ \\\\text{{kg}} \\\\ \\\\text{{m}}^2\"))\n",
    "\n",
    "\n",
    "# Example calculation for I_x for report\n",
    "example_calc = f\"I_x = \\\\frac{{{T_x:.4f}^2 - {T_0:.4f}^2}}{{{T_w:.4f}^2 - {T_0:.4f}^2}} \\\\cdot {I_w:.4f} = {I_x:.6f} \\\\ \\\\text{{kg}} \\\\ \\\\text{{m}}^2\"\n",
    "\n",
    "# For Wolfram Alpha:\n",
    "print(f\"({T_x}^2 - {T_0}^2)/({T_w}^2 - {T_0}^2) * {I_w}\")\n",
    "display(Math(example_calc))"
   ]
  },
  {
   "cell_type": "markdown",
   "metadata": {},
   "source": [
    "## Elipsoida bezwładności badanej bryły:\n",
    "\n",
    "$$\n",
    "    \\frac{x^2}{a^2} + \\frac{y^2}{b^2} + \\frac{z^2}{c^2} = 1\n",
    "$$\n",
    "\n",
    "$$\n",
    "    a = \\frac{1}{\\sqrt{I_x}}, \\quad\n",
    "    b = \\frac{1}{\\sqrt{I_y}}, \\quad\n",
    "    c = \\frac{1}{\\sqrt{I_z}}\n",
    "$$\n"
   ]
  },
  {
   "cell_type": "code",
   "execution_count": 12,
   "metadata": {},
   "outputs": [
    {
     "data": {
      "text/latex": [
       "$\\displaystyle a = 50.519636 \\ \\text{m}$"
      ],
      "text/plain": [
       "<IPython.core.display.Math object>"
      ]
     },
     "metadata": {},
     "output_type": "display_data"
    },
    {
     "data": {
      "text/latex": [
       "$\\displaystyle b = 50.479042 \\ \\text{m}$"
      ],
      "text/plain": [
       "<IPython.core.display.Math object>"
      ]
     },
     "metadata": {},
     "output_type": "display_data"
    },
    {
     "data": {
      "text/latex": [
       "$\\displaystyle c = 50.894785 \\ \\text{m}$"
      ],
      "text/plain": [
       "<IPython.core.display.Math object>"
      ]
     },
     "metadata": {},
     "output_type": "display_data"
    }
   ],
   "source": [
    "a = 1 / np.sqrt(I_x)\n",
    "b = 1 / np.sqrt(I_y)\n",
    "c = 1 / np.sqrt(I_z)\n",
    "\n",
    "display(Math(f\"a = {a:.6f} \\\\ \\\\text{{m}}\"))\n",
    "display(Math(f\"b = {b:.6f} \\\\ \\\\text{{m}}\"))\n",
    "display(Math(f\"c = {c:.6f} \\\\ \\\\text{{m}}\"))"
   ]
  }
 ],
 "metadata": {
  "kernelspec": {
   "display_name": "venv",
   "language": "python",
   "name": "python3"
  },
  "language_info": {
   "codemirror_mode": {
    "name": "ipython",
    "version": 3
   },
   "file_extension": ".py",
   "mimetype": "text/x-python",
   "name": "python",
   "nbconvert_exporter": "python",
   "pygments_lexer": "ipython3",
   "version": "3.12.0"
  }
 },
 "nbformat": 4,
 "nbformat_minor": 2
}
